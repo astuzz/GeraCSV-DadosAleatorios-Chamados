{
 "cells": [
  {
   "cell_type": "markdown",
   "metadata": {},
   "source": [
    "Script para criação CSV com dados de chamados\n",
    "\n",
    "No CSV são gerados:\n",
    " - Número do chamado\n",
    " - Data de Abertura e Fechamento\n",
    " - Status\n",
    "\n",
    " Tudo sendo gerado de forma aleatoria, totalizando de 300 chamados.\n",
    "\n",
    " "
   ]
  },
  {
   "cell_type": "code",
   "execution_count": 39,
   "metadata": {},
   "outputs": [],
   "source": [
    "import pandas as pd\n",
    "import random\n",
    "from datetime import datetime, timedelta"
   ]
  },
  {
   "cell_type": "markdown",
   "metadata": {},
   "source": [
    "Função para Gerar Datas Aleatórias e Pré-calculo de Duração em Dias"
   ]
  },
  {
   "cell_type": "code",
   "execution_count": 40,
   "metadata": {},
   "outputs": [],
   "source": [
    "def random_date(inicio, fim):\n",
    "    return inicio + timedelta(\n",
    "        days=random.randint(\n",
    "            0, int((fim - inicio).days)\n",
    "            )\n",
    "        )"
   ]
  },
  {
   "cell_type": "markdown",
   "metadata": {},
   "source": [
    "Range de Datas"
   ]
  },
  {
   "cell_type": "code",
   "execution_count": 41,
   "metadata": {},
   "outputs": [],
   "source": [
    "data_inicial = datetime(2023,1,1)\n",
    "data_final = datetime(2023,12,31)"
   ]
  },
  {
   "cell_type": "markdown",
   "metadata": {},
   "source": [
    "Geração de chamados"
   ]
  },
  {
   "cell_type": "code",
   "execution_count": 42,
   "metadata": {},
   "outputs": [],
   "source": [
    "dados = []\n",
    "for linha in range(101, 401): #Gerar 300 linhas\n",
    "    \n",
    "    id_chamado = random.choice([\"A\",\"B\",\"C\",\"D\",\"E\"])+str(linha)\n",
    "    \n",
    "    data_abertura = random_date(data_inicial, data_final)\n",
    "    status = random.choice(['Aberto', 'Fechado', 'Em andamento'])\n",
    "    data_fechamento = random_date(data_abertura, data_final) if status == \"Fechado\" else None\n",
    "    \n",
    "    # Append\n",
    "    dados.append([\n",
    "        id_chamado, \n",
    "        data_abertura.strftime('%Y-%m-%d'), \n",
    "        status, \n",
    "        data_fechamento.strftime('%Y-%m-%d') if data_fechamento else None\n",
    "        ])\n"
   ]
  },
  {
   "cell_type": "markdown",
   "metadata": {},
   "source": [
    "Criando o Dataframe"
   ]
  },
  {
   "cell_type": "code",
   "execution_count": 43,
   "metadata": {},
   "outputs": [],
   "source": [
    "df = pd.DataFrame(dados, \n",
    "                  columns=[\n",
    "                      'ID Chamado',\n",
    "                      'Data de Abertura',\n",
    "                      'Status',\n",
    "                      'Data de Fechamento',\n",
    "                  ])"
   ]
  },
  {
   "cell_type": "markdown",
   "metadata": {},
   "source": [
    "Salvando o CSV"
   ]
  },
  {
   "cell_type": "code",
   "execution_count": 44,
   "metadata": {},
   "outputs": [
    {
     "name": "stdout",
     "output_type": "stream",
     "text": [
      "! Arquivo CSV gerado: Chamados_Gerados.csv\n"
     ]
    }
   ],
   "source": [
    "arquivo_saida = \"Chamados_Gerados.csv\"\n",
    "\n",
    "df.to_csv(arquivo_saida, index=False)\n",
    "\n",
    "print(\"! Arquivo CSV gerado: \"+arquivo_saida)"
   ]
  }
 ],
 "metadata": {
  "kernelspec": {
   "display_name": "Python 3",
   "language": "python",
   "name": "python3"
  },
  "language_info": {
   "codemirror_mode": {
    "name": "ipython",
    "version": 3
   },
   "file_extension": ".py",
   "mimetype": "text/x-python",
   "name": "python",
   "nbconvert_exporter": "python",
   "pygments_lexer": "ipython3",
   "version": "3.13.0"
  }
 },
 "nbformat": 4,
 "nbformat_minor": 2
}
